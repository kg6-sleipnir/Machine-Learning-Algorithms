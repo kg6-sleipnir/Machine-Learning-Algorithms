{
 "cells": [
  {
   "cell_type": "markdown",
   "metadata": {},
   "source": [
    "# Neural Net Using Pytorch and DVC\n",
    "This model uses Pytorch to create a multi-layered neural network with a sigmoid activation function."
   ]
  },
  {
   "cell_type": "markdown",
   "metadata": {},
   "source": [
    "### Neural Net Definition"
   ]
  },
  {
   "cell_type": "code",
   "execution_count": 343,
   "metadata": {},
   "outputs": [],
   "source": [
    "from torch import nn, optim, Tensor, FloatTensor, float32\n",
    "\n",
    "#\n",
    "# Neural network for learning boolean operations\n",
    "#\n",
    "class NeuralNet(nn.Module):\n",
    "    def __init__(self) -> None:\n",
    "        \"\"\"Init NeuralNet with 2 inputs, 1 hidden layer with 4 nodes, and 2 outputs\"\"\"\n",
    "        super().__init__()\n",
    "        self.layers = nn.Sequential(\n",
    "            nn.Linear(2, 4, dtype=float32),\n",
    "            nn.Sigmoid(),\n",
    "            nn.Linear(4, 2, dtype=float32)\n",
    "        )\n",
    "\n",
    "    def forward(self, x) -> Tensor:\n",
    "        \"\"\"Propagate values through layer in network\"\"\"\n",
    "        logits = self.layers(x)\n",
    "        probs = nn.Softmax(-1)(logits)\n",
    "        return probs"
   ]
  },
  {
   "cell_type": "code",
   "execution_count": 344,
   "metadata": {},
   "outputs": [
    {
     "name": "stdout",
     "output_type": "stream",
     "text": [
      "NeuralNet(\n",
      "  (layers): Sequential(\n",
      "    (0): Linear(in_features=2, out_features=4, bias=True)\n",
      "    (1): Sigmoid()\n",
      "    (2): Linear(in_features=4, out_features=2, bias=True)\n",
      "  )\n",
      ")\n"
     ]
    }
   ],
   "source": [
    "_model = NeuralNet()\n",
    "print(_model)"
   ]
  },
  {
   "cell_type": "markdown",
   "metadata": {},
   "source": [
    "### Util Class for Boolean Operations Dataset"
   ]
  },
  {
   "cell_type": "code",
   "execution_count": 345,
   "metadata": {},
   "outputs": [],
   "source": [
    "import numpy as np\n",
    "import operator\n",
    "\n",
    "def get_pair(operator) -> tuple[Tensor, Tensor]:\n",
    "    \"\"\"Generate a set of inputs and correct output for model\"\"\"\n",
    "    values = np.random.choice([1, 0], 2)            # Two random inputs\n",
    "    answer = [int(operator(values[0], values[1]))]  # Get correct output\n",
    "    answer += [int(not answer[0])]\n",
    "    return Tensor(values).type(float32), Tensor(answer).type(float32)"
   ]
  },
  {
   "cell_type": "markdown",
   "metadata": {},
   "source": [
    "### Util Functions for Training/Validating"
   ]
  },
  {
   "cell_type": "code",
   "execution_count": 346,
   "metadata": {},
   "outputs": [],
   "source": [
    "import torch\n",
    "\n",
    "loss_fn = nn.MSELoss()\n",
    "optimizer = optim.SGD(_model.parameters(), lr=0.018)\n",
    "\n",
    "def train(operator, batches, batch_size=5, model=_model) -> float:\n",
    "    loss_hist = []\n",
    "    for batch in range(batches):\n",
    "        pairs, labels = [], []\n",
    "        for _ in range(batch_size):\n",
    "            pair, label = get_pair(operator)\n",
    "            pairs.append(pair)\n",
    "            labels.append(label)\n",
    "\n",
    "        data = torch.stack(pairs)\n",
    "        true = torch.stack(labels)\n",
    "\n",
    "        pred: Tensor = model(data)\n",
    "        loss: Tensor = loss_fn(pred, true)\n",
    "        loss_hist.append(loss.detach().numpy())\n",
    "\n",
    "        loss.backward()\n",
    "        optimizer.step()\n",
    "        optimizer.zero_grad()\n",
    "    return np.array(loss_hist).mean()\n"
   ]
  },
  {
   "cell_type": "code",
   "execution_count": 347,
   "metadata": {},
   "outputs": [],
   "source": [
    "def validate(operator, model=_model) -> dict:\n",
    "    \"\"\"Validate the test neural network\"\"\"\n",
    "    # Generate validation set\n",
    "    values: list[list[int]] = []\n",
    "    for val_1 in range(2):\n",
    "        for val_2 in range(2):\n",
    "            values.append([val_1, val_2])\n",
    "\n",
    "    predictions = []\n",
    "    true_labels = []\n",
    "\n",
    "    # Run network on validation set\n",
    "    for it, inputs in enumerate(values):\n",
    "        with torch.no_grad():\n",
    "            preds = model(Tensor(inputs)).tolist()\n",
    "        label = [int(operator(inputs[0], inputs[1]))]\n",
    "        label += [int(not label[0])]\n",
    "\n",
    "        predictions.append(round(preds[0]))\n",
    "        predictions.append(round(preds[1]))\n",
    "        true_labels.append(label[0])\n",
    "        true_labels.append(label[1])\n",
    "\n",
    "    return {\n",
    "        \"inputs\": inputs,\n",
    "        \"preds\": predictions,\n",
    "        \"labels\": true_labels\n",
    "    }"
   ]
  },
  {
   "cell_type": "markdown",
   "metadata": {},
   "source": [
    "### Train and Evaluate Model"
   ]
  },
  {
   "cell_type": "code",
   "execution_count": 348,
   "metadata": {},
   "outputs": [
    {
     "data": {
      "text/markdown": [
       "# DVC Report\n",
       "\n",
       "metrics.json\n",
       "\n",
       "|   train.avg_loss |   step |\n",
       "|------------------|--------|\n",
       "|        0.0423433 |     99 |\n",
       "\n",
       "![static/train/avg_loss](data:image/png;base64,iVBORw0KGgoAAAANSUhEUgAAAoAAAAHgCAYAAAA10dzkAAAAOXRFWHRTb2Z0d2FyZQBNYXRwbG90bGliIHZlcnNpb24zLjguMywgaHR0cHM6Ly9tYXRwbG90bGliLm9yZy/H5lhTAAAACXBIWXMAAA9hAAAPYQGoP6dpAABteElEQVR4nO3dd3hUVeLG8e/MpEx6SEISAoHQe5MOAgpRsKyKrgp2dHVXxRVxXdtPse2CvayuKPa1gL0googUgdCb9E4gpJBAOskkM/f3RzIDIQECmSSTzPt5njyb3Dn33DMZFl5PNRmGYSAiIiIiXsNc3w0QERERkbqlACgiIiLiZRQARURERLyMAqCIiIiIl1EAFBEREfEyCoAiIiIiXkYBUERERMTLKACKiIiIeBkFQBEREREvowAoIiIi4mUUAEVERES8jAKgiIiIiJdRABQRERHxMgqAIiIiIl5GAVBEvEpCQgK33HJLfTejTixYsACTycSCBQvquyki4mEUAEXE4yxdupQnnniC7Ozs+m5KlX744QfMZjNpaWn13RQRkbPiU98NEBE50dKlS3nyySe55ZZbCA8Pd2vd27Ztw2yu2X/7/vjjj/Tp04fY2Fg3tUpEpG6pB1BEGiyHw0FRUdEZ3ePv74+vr2+Nnjt79mwuueSSGtUhIlKfFABFxKM88cQTPPDAAwC0bt0ak8mEyWRi7969mEwmJkyYwCeffELXrl3x9/dnzpw5ALzwwgsMHjyYyMhIAgIC6NOnD19++WWl+k+cA/jBBx9gMplYsmQJkyZNomnTpgQFBTFmzBgOHTpU6f4//viD/fv3uwKgzWbj8ccfp0+fPoSFhREUFMTQoUOZP3++656SkhIiIiIYP358pfpyc3OxWq384x//cF3bt28fl112GUFBQURHR3Pffffx888/u20+3xdffEGfPn0ICAggKiqKG264gZSUlApl0tLSGD9+PC1atMDf359mzZpx+eWXs3fvXleZVatWMWrUKKKioggICKB169bceuutNW6fiNQ+DQGLiEe58sor2b59O5999hkvv/wyUVFRADRt2hSA3377jc8//5wJEyYQFRVFQkICAK+++iqXXXYZ119/PTabjRkzZnD11Vcza9asavXW3XPPPTRp0oTJkyezd+9eXnnlFSZMmMDMmTMrlJs9ezbR0dH07dsXKAtw77zzDuPGjeP2228nLy+Pd999l1GjRrFixQp69eqFr68vY8aM4euvv+att97Cz8/PVd+3335LcXExY8eOBaCgoIARI0aQmprKvffeS2xsLJ9++mmFQFkTH3zwAePHj6dfv35MmTKF9PR0Xn31VZYsWcLatWtdQ+5XXXUVmzZt4p577iEhIYGMjAzmzp1LcnKy6+cLL7yQpk2b8tBDDxEeHs7evXv5+uuv3dJOEallhoiIh3n++ecNwNizZ0+F64BhNpuNTZs2VbqnsLCwws82m83o1q2bMWLEiArXW7VqZdx8882un99//30DMBITEw2Hw+G6ft999xkWi8XIzs6ucP/QoUMr3F9aWmoUFxdXKHPkyBEjJibGuPXWW13Xfv75ZwMwfvjhhwplL774YqNNmzaun1988UUDML799lvXtaNHjxqdOnUyAGP+/PmV3vvJzJ8/v8I9NpvNiI6ONrp162YcPXrUVW7WrFkGYDz++OOu9gPG888/f9K6v/nmGwMwVq5cWe32iIjn0BCwiDQow4cPp0uXLpWuBwQEuL4/cuQIOTk5DB06lDVr1lSr3jvuuAOTyeT6eejQodjtdvbt2+e6lp2dTVJSUoUeRYvF4urRczgcHD58mNLSUvr27Vvh2SNGjCAqKqpCj+KRI0eYO3cu1157revanDlzaN68OZdddpnrmtVq5fbbb6/W+ziVVatWkZGRwV133YXVanVdv+SSS+jUqRM//vgjUPa79PPzY8GCBRw5cqTKupw9hbNmzaKkpKTGbRORuqUAKCINSuvWrau8PmvWLAYOHIjVaiUiIoKmTZvy5ptvkpOTU616W7ZsWeHnJk2aAFQIQD///DMAF154YYWyH374IT169MBqtRIZGUnTpk358ccfKzzbx8eHq666iu+++47i4mIAvv76a0pKSioEwH379tG2bdsKYRSgXbt21Xofp+IMsx07dqz0WqdOnVyv+/v78+yzz/LTTz8RExPDsGHDeO655ypsezN8+HCuuuoqnnzySaKiorj88st5//33Xe9NRDybAqCINCjH9/Q5/f7771x22WVYrVb++9//Mnv2bObOnct1112HYRjVqtdisVR5/fj7Z8+ezZAhQwgLC3Nd+/jjj7nlllto27Yt7777LnPmzGHu3LmMGDECh8NRoa6xY8eSl5fHTz/9BMDnn39Op06d6NmzZ7XaWJcmTpzI9u3bmTJlClarlccee4zOnTuzdu1aAEwmE19++SVJSUlMmDCBlJQUbr31Vvr06UN+fn49t15ETkcBUEQ8zom9X6fz1VdfYbVa+fnnn7n11lu56KKLSExMdGubDMNgzpw5lRaUfPnll7Rp04avv/6aG2+8kVGjRpGYmFjl9jTDhg2jWbNmzJw5k8zMTH777bcKvX8ArVq1YteuXZWC686dO2v8Hlq1agWU7YV4om3btrled2rbti33338/v/zyCxs3bsRms/Hiiy9WKDNw4ED+9a9/sWrVKj755BM2bdrEjBkzatxWEaldCoAi4nGCgoIAqn0SiMViwWQyYbfbXdf27t3Lt99+67Y2rVy5koyMjEoB0NlzeHxgW758OUlJSZXqMJvN/PnPf+aHH37gf//7H6WlpZUC4KhRo0hJSeH77793XSsqKmL69Ok1fg99+/YlOjqaadOmVRiq/emnn9iyZYvrvRUWFlYKsG3btiUkJMR135EjRyqF1F69egFoGFikAdA2MCLicfr06QPAo48+ytixY/H19eVPf/rTSctfcsklvPTSS4wePZrrrruOjIwM3njjDdq1a8eGDRvc0qYff/yRhISESgtQLr30Ur7++mvGjBnDJZdcwp49e5g2bRpdunSpcij02muv5T//+Q+TJ0+me/fudO7cucLrf/3rX3n99dcZN24c9957L82aNeOTTz5xLdo4097R4/n6+vLss88yfvx4hg8fzrhx41zbwCQkJHDfffcBsH37dkaOHMk111xDly5d8PHx4ZtvviE9Pd21Xc2HH37If//7X8aMGUPbtm3Jy8tj+vTphIaGcvHFF591G0WkbigAiojH6devH08//TTTpk1jzpw5OBwO9uzZc9LyI0aM4N1332Xq1KlMnDiR1q1b8+yzz7J37163BcDZs2dXGWxuueUW0tLSeOutt/j555/p0qULH3/8MV988UWVmzYPHjyY+Ph49u/fX6n3DyA4OJjffvuNe+65h1dffZXg4GBuuukmBg8ezFVXXVVh9e7ZuOWWWwgMDGTq1Kk8+OCDrk2vn332WdfK3vj4eMaNG8e8efP43//+h4+PD506deLzzz/nqquuAsoWgaxYsYIZM2aQnp5OWFgY/fv355NPPjnpQh0R8Rwmo7ozpEVEvFR6ejrNmjVj1qxZ9da79corr3Dfffdx4MABmjdvXi9tEJHGQwFQROQ0tm/fzqeffsqDDz5Y5Spkdzt69GiF5xQVFdG7d2/sdjvbt2+v9eeLSOOnACgi4mEuuugiWrZsSa9evcjJyeHjjz9m06ZNfPLJJ1x33XUcPXr0tPsbRkREVDhyTkTkeJoDKCLiYUaNGsU777zDJ598gt1up0uXLsyYMcM1Z3DmzJmMHz/+lHXMnz+f8847rw5aKyINkXoARUQamNTUVDZt2nTKMn369HGdZiIiciIFQBEREREvo42gRURERLyM5gBWk8Ph4ODBg4SEhNRoI1YRERGRmjIMg7y8POLi4jCbz7w/TwGwmg4ePEh8fHx9N0NERETEZf/+/bRo0eKM71MArKaQkBCg7BcdGhpaz60RERERb5abm0t8fLwrn5wpBcBqcg77hoaGKgCKiIiIRzjbaWlaBCIiIiLiZRQARURERLyMAqCIiIiIl1EAFBEREfEyCoAiIiIiXkYBUERERMTLKACKiIiIeBkFQBEREREvowAoIiIi4mUUAEVERES8jAKgiIiIiJdRABQRERHxMh4bAN944w0SEhKwWq0MGDCAFStWnLTs9OnTGTp0KE2aNKFJkyYkJiZWKn/LLbdgMpkqfI0ePbq234aIiIiIx/HIADhz5kwmTZrE5MmTWbNmDT179mTUqFFkZGRUWX7BggWMGzeO+fPnk5SURHx8PBdeeCEpKSkVyo0ePZrU1FTX12effVYXb6faNqbksGRnJoW20vpuioiIiDRiJsMwjPpuxIkGDBhAv379eP311wFwOBzEx8dzzz338NBDD532frvdTpMmTXj99de56aabgLIewOzsbL799tuzalNubi5hYWHk5OQQGhp6VnWcTt9nfiUzv5jZfx9Kl7jaeYaIiIg0fDXNJR7XA2iz2Vi9ejWJiYmua2azmcTERJKSkqpVR2FhISUlJURERFS4vmDBAqKjo+nYsSN33nknWVlZbm17TYUG+ACQW1RSzy0RERGRxsynvhtwoszMTOx2OzExMRWux8TEsHXr1mrV8eCDDxIXF1chRI4ePZorr7yS1q1bs2vXLh555BEuuugikpKSsFgsleooLi6muLjY9XNubu5ZvqPqC7X6lj3rqAKgiIiI1B6PC4A1NXXqVGbMmMGCBQuwWq2u62PHjnV93717d3r06EHbtm1ZsGABI0eOrFTPlClTePLJJ+ukzU6hAeUBsEhzAEVERKT2eNwQcFRUFBaLhfT09ArX09PTiY2NPeW9L7zwAlOnTuWXX36hR48epyzbpk0boqKi2LlzZ5WvP/zww+Tk5Li+9u/ff2Zv5CyEWsuHgNUDKCIiIrXI4wKgn58fffr0Yd68ea5rDoeDefPmMWjQoJPe99xzz/H0008zZ84c+vbte9rnHDhwgKysLJo1a1bl6/7+/oSGhlb4qm3HegAVAEVERKT2eFwABJg0aRLTp0/nww8/ZMuWLdx5550UFBQwfvx4AG666SYefvhhV/lnn32Wxx57jPfee4+EhATS0tJIS0sjPz8fgPz8fB544AGWLVvG3r17mTdvHpdffjnt2rVj1KhR9fIeq3JsDqCGgEVERKT2eOQcwGuvvZZDhw7x+OOPk5aWRq9evZgzZ45rYUhycjJm87Hs+uabb2Kz2fjzn/9coZ7JkyfzxBNPYLFY2LBhAx9++CHZ2dnExcVx4YUX8vTTT+Pv71+n7+1UtApYRERE6oJH7gPoiepiH8CPl+3j/77dyIVdYnj7ptMPY4uIiIh3anT7AHozzQEUERGRuqAA6EGOrQLWHEARERGpPQqAHkQ9gCIiIlIXFAA9iE4CERERkbqgAOhBnKuA84pLcTi0NkdERERqhwKgB3H2ABoG5Ns0D1BERERqhwKgB7H6WvDzKftINAwsIiIitUUB0MPoNBARERGpbQqAHkangYiIiEhtUwD0MFoJLCIiIrVNAdDDOPcCzCvSELCIiIjUDgVADxNi1RCwiIiI1C4FQA+jRSAiIiJS2xQAPYwWgYiIiEhtUwD0MFoEIiIiIrVNAdDDOBeBqAdQREREaosCoIcJdS4C0RxAERERqSUKgB5GPYAiIiJS2xQAPYxrDqACoIiIiNQSBUAPExagIWARERGpXQqAHsbZA5hXVILDYdRza0RERKQxUgD0MM45gA4DCmzqBRQRERH3UwD0MP4+ZvwsZR9Lrs4DFhERkVqgAOhhTCbTsdNAtBm0iIiI1AIFQA+k00BERESkNikAeqAQ116AGgIWERER91MA9EDHTgNRD6CIiIi4nwKgB9JpICIiIlKbFAA90LE5gBoCFhEREfdTAPRArlXA6gEUERGRWqAA6IG0ClhERERqkwKgB9IcQBEREalNCoAe6NgqYM0BFBEREfdTAPRAzh7AvGL1AIqIiIj7KQB6IK0CFhERkdqkAOiBwrQKWERERGqRAqAHOn4VsGEY9dwaERERaWwUAD2Qcw6gw4ACm72eWyMiIiKNjQKgB/L3MeNnKftotBegiIiIuJsCoAcymUw6DURERERqjQKgh9JKYBEREaktCoAeKiRAx8GJiIhI7VAA9FCu00A0BCwiIiJupgDooY7fCkZERETEnRQAPdSxRSCaAygiIiLupQDoodQDKCIiIrVFAdBDOTeD1hxAERERcTcFQA/lWgSibWBERETEzRQAPZR6AEVERKS2KAB6KNccQAVAERERcTMFQA/lWgWsIWARERFxMwVAD6UeQBEREaktCoAeKvS4o+AMw6jn1oiIiEhjogDooZw9gA4DCmz2em6NiIiINCYKgB7K6mvG12ICtBm0iIiIuJcCoIcymUyaBygiIiK1QgHQgznnAebpPGARERFxIwVAD3bsNBD1AIqIiIj7KAB6MJ0GIiIiIrVBAdCDueYAajNoERERcSMFQA927DQQ9QCKiIiI+ygAejCtAhYREZHaoADowY6dBqIhYBEREXEfBUAP5loFrB5AERERcSMFQA+mVcAiIiJSGxQAPZhWAYuIiEhtUAD0YK5VwOoBFBERETdSAPRgx3oAFQBFRETEfRQAPdixOYClGIZRz60RERGRxkIB0IM5ewDtDoNCm72eWyMiIiKNhQKgB7P6mvG1mADNAxQRERH3UQD0YCaTSSuBRURExO0UAD2ccx7gkUJbPbdEREREGguPDYBvvPEGCQkJWK1WBgwYwIoVK05advr06QwdOpQmTZrQpEkTEhMTK5U3DIPHH3+cZs2aERAQQGJiIjt27Kjtt1FjrSIDAdienlfPLREREZHGwiMD4MyZM5k0aRKTJ09mzZo19OzZk1GjRpGRkVFl+QULFjBu3Djmz59PUlIS8fHxXHjhhaSkpLjKPPfcc7z22mtMmzaN5cuXExQUxKhRoygqKqqrt3VWerQIB2Dd/ux6bYeIiIg0HibDA/cXGTBgAP369eP1118HwOFwEB8fzz333MNDDz102vvtdjtNmjTh9ddf56abbsIwDOLi4rj//vv5xz/+AUBOTg4xMTF88MEHjB079rR15ubmEhYWRk5ODqGhoTV7g2fgt63p3PrBKtpFB/PrpOF19lwRERHxXDXNJR7XA2iz2Vi9ejWJiYmua2azmcTERJKSkqpVR2FhISUlJURERACwZ88e0tLSKtQZFhbGgAEDTlpncXExubm5Fb7qg7MHcNehfPK0ElhERETcwOMCYGZmJna7nZiYmArXY2JiSEtLq1YdDz74IHFxca7A57zvTOqcMmUKYWFhrq/4+PgzfStuERXsT/PwAAwD/kjJqZc2iIiISOPicQGwpqZOncqMGTP45ptvsFqtZ13Pww8/TE5Ojutr//79bmzlmekVHw7A+v0KgCIiIlJzHhcAo6KisFgspKenV7ienp5ObGzsKe994YUXmDp1Kr/88gs9evRwXXfedyZ1+vv7ExoaWuGrvvRoEQbAei0EERERETfwuADo5+dHnz59mDdvnuuaw+Fg3rx5DBo06KT3Pffcczz99NPMmTOHvn37VnitdevWxMbGVqgzNzeX5cuXn7JOT9GzvAdww4Hsem2HiIiINA4+9d2AqkyaNImbb76Zvn370r9/f1555RUKCgoYP348ADfddBPNmzdnypQpADz77LM8/vjjfPrppyQkJLjm9QUHBxMcHIzJZGLixIk888wztG/fntatW/PYY48RFxfHFVdcUV9vs9q6NQ/DZIKDOUVk5BURHXL2Q9siIiIiHhkAr732Wg4dOsTjjz9OWloavXr1Ys6cOa5FHMnJyZjNxzov33zzTWw2G3/+858r1DN58mSeeOIJAP75z39SUFDAHXfcQXZ2Nueeey5z5syp0TzBuhLs70P76GC2p+ezYX8OiV08v80iIiLiuTxyH0BPVF/7ADo98MV6vlh9gHtGtOP+CzvW+fNFRETEczS6fQClaj2cK4EPaCWwiIiI1IwCYAPRq3xD6PX7s1GnrYiIiNSEAmAD0TE2BD+LmZyjJezLKqz15xmGQc5RnTwiIiLSGCkANhB+Pma6xJWN8a+vg+1gvlmbQs8nf+F/y/bV+rNERESkbikANiA9XRtC1/48wKW7sgB49dftFJXYa/15IiIiUncUABuQutwQ+mD2UQAy8218teZArT9PRERE6o4CYAPiDIAbD+ZQYnfU6rOcARBg+qLd2B1aeCIiItJYKAA2IK0jgwjx96GoxMH29Lxae47DYXAwpwgom3u4N6uQnzel1drzREREpG4pADYgZrOJHvFl8wA31OJ+gFkFNmylDkwm+Mu5rQGYtnCXtp8RERFpJBQAG5gex+0HWFucw78xIVZuO7c1Vl8zGw7kkLQ7q9aeKSIiInVHAbCB6ekMgLXYA+gMgHHhViKD/bmmbzwA0xburrVnioiISN1RAGxgepYPAW9Pz+OorXa2Z0lxBcAAAP5ybhvMJli0/RCbD+bWyjNFRESk7igANjCxoVaiQ/yxOwzW1dIw8MHssgUgzcsDYMvIQC7pEQfAW4t21cozRUREpO4oADYwJpOJoe2bAvDFqv218oyU7LKj5pw9gAB/HdYGgFkbUtl/uPaPohMREZHaowDYAN00qBVQFsYy84vdXr+zB/D4ANiteRhD20dhdxh8vFzHw4mIiDRkCoANUM/4cHrGh2OzO5ixItnt9R+/COR4f+7TAoBlu7QaWEREpCFTAGygbhlc1gv48bJkt54KUlRiJ6vABkCL8MAKr/VNiABg48FcCm2lbnumiIiI1C0FwAbq4u7NiAr2Iy23iF82pbutXmfvX5CfhdAAnwqvNQ8PIC7MWrYAJTnbbc8UERGRuqUA2ED5+1i4rn9LAD5cutdt9R4//89kMlV63dkLuHLvEbc9U0REROqWAmADdt2AVviYTazYe9ht+/MdPGEPwBP1S2gCwKp9h93yvP2HCykurZ39DEVERKRqCoANWGyYlVHdYgH4KGmvW+o8cRPoEzl7ANfsO0JpDecebkvLY9jz87nxnRXYHTpnWEREpK4oADZwtwxOAODbdSlkF9pqXJ+zB7D5CSuAnTrEhBDi70OBzc7WtLwaPWvd/iMYBqzYe5hPtLWMiIhInVEAbOD6tmpCl2ahFJU4mLmy5htDH8w5dQ+gxWzinFblw8B7azYMnHLkqOv75+ZsIy2nqEb1iYiISPUoADZwJpOJm8u3hPnfsn01HkqtahPoEznnAa7cV7OFICnlzzKZIL+4lCe+31Sj+qpiGAav/Lqd1+btwDA0zCwiIgIKgI3C5b2aEx7oy4EjR5m7Oe2s6zEMwzUHsPkpAqBzHuCqvYdPGqoy8opOO0fQeeTcX4e1xcdsYs6mNOZudt+WNgC/bsnglV938NLc7czZePa/GxERkcZEAbARsPpauHFgWS/gK7/uwHGWvYBZBTZspQ5MJogJrXoOIEDPFuH4Wkyk5xZz4LhhXKdfNqUx8N/zeP7nbad8nrO3cWTnaP4ytOys4cnfbaSg2D2bTJfYHUyZvcX185M/bCbfTXWLiIg0ZAqAjcRt57YmxN+HrWl5/Lzp7Hq6nHPyYkKs+Pmc/I9GgJ+Fbs3DAFh5wjxAh8PgxV+24zAgaffJj4xzOAxSj5tveO/I9sRHBHAwp4gXf9l+Vu0/0WcrktmdWUBEkB/xEQGk5Rbx2rwdbqlbRESkIVMAbCTCA/0Yf25r4Ox7AU92BnBV+joXgpwwD/DXLelsSy9bHbwvq/Ck92fkFVNiN7CYTcSE+BPgZ+GZK7oD8MHSPfxxIOeM23+83KISXvm1LOzdl9iepy7vBsC7i/ewrYarl0VERBo6BcBG5LZzWxNi9WFbeh6zN6ae8f2n2wPweMfPA3QyDIM3Fuxy/ZxztIScwpJTPis21IqPpeyP4fAOTbmsZxwOA56aVbMFIW8u2MXhAhttmgYxtn9Lzu8YzeiusdgdBv/37R9aECIiIl5NAbARCQvw5bbyXsBXf91xxiuCnXPyTrUAxMnZA7g9Pd+1/+CSnVms35+Nv4+ZEGvZOcLJh6vuBTzZYpNHLu6M2VR21Nz+k9x7OinZR3l38Z6y+i7qjG95wHz8T10I9LOwcu8RvlqTclZ1i4iINAYKgI3Mree2JtTqw46MfH7848x6AU93DNzxIoP9adM0CIDV5cPAr88vG3Id178lHWJCANh3uKDK+53zDZs3qfis2DArA1pHApxx+51e+HkbtlIHA9tEMLJztOu6c64hwJTZW9yycbaIiEhDpADYyIRafbm9fEXtq79uP6NewNNtAn2ifq3KhoFX7j3C6n2HWbb7ML4WE3cMa0PLiEDg5D2Ap5pveGnPZgDM2nCw2m13+uNADt+sLevde/TiLphMpgqv33pua9pHB5NVYDvtKmUREZHGSgGwEbplSALhgb7sOlTAD+urH6LOZBEIQN+EYyeCvDG/bO7flb1bEBcecCwAnmQhyLEh4MBKr13UrRkWs4mNKbnszay6B7EqtlIHT8/aDMCY3s3p3iKsUhlfi5lnrihbEPLpimQtCBEREa+kANgIhRzXC/javB2n3ZAZoKjETmZ+2ZBodeYAAvQrXwiydn82v23NwGyCO89rC0CryLJgd7KVwKcKmxFBfgxuWzYMXN1ewEN5xVz/zjJW7D2Mv4+Zf4zqeNKyA9pEcnH3WAwDXp7rni1nREREGhIFwEbq5sEJNAn0ZXdmAXOqsS9gavk5vIF+FsICfKv1jFaRgUQF+7mGmS/tEUdCVJDrNTjFIpDyOYAtmlQdNv/UIw6AWRtOPw9wbfIR/vSfxazce4QQfx+m3dDntCH2vsQOmEwwZ1NajbecERERaWgUABupYH8fxvZvCcBP1TgC7fgFICfOmzsZk8lE3/J5gAB3nd/W9X18+RDwwZyj2Eor9kDmHC0hr/xEjpPNNxzVNRZfi4mtaXnszDj5MO3nK/dz7VvLSMstol10MN9NGML5naJPWt6pfUwIV/RqDsBLczUXUEREvIsCYCN2YZcYABZuO1QphJ2oOmcAV2VohygARnWNoVNsqOt602B/Av0sGAYcOFKxF9AZNpsE+hLo51NlvWGBvgxt3xSAH9ZX7gV0OAwe/24j//xqAza7gwu7xPDNXYNp0zS42m2/d2R7LGYT87cdYvW+w6e/QUREpJFQAGzEerYIp2mIP/nFpSw7xbFscGZbwBxvbL+WvHVjH166pleF6yaTybUQZN8Jw8An2wLmRJf2OLYa+MSNm1+dt4OPkvZhMsH9F3Rg2g19CLFWb+jaKSEqiKv7tABw2/FzIiIiDYECYCNmNptILN8Hb+7m9FOWPejqAazeCmAni9nEqK6xBPlX7slzDgOfuKGza7uZsFMHwAu6xODnY2bXoQK2Hrda9+dNabxafqbvs1f24J6R7TGbqzdsfaJ7RrbHz2Jm6a4slu7MPKs6REREGhoFwEbugvJh4F+3pJ/y+LMzOQauulpFVL0SuLo9gCFWX87rUDYM7FwNvCM9j0kz1wFwy+AErukXX6M2Ng8PYFz/sjpenLtdR8SJiIhXUABs5Aa3jSLQz0JqThEbU3JPWs55DJxbA+BJtoI5cAbzDS9xDQOnklNYwu0fraLAZmdgmwgevaSzW9p59/nt8Pcxs3rfERZuP+SWOkVERDyZAmAjZ/W1MKx8McXcLVUPAxuGcdaLQE6lZWTZljDJJxwHd/AMnpXYOQarr5l9WYWMnb6MvVmFNA8P4I3rznGd8VtT0aFWbh6cAJTNBVQvoIiINHYKgF7AOQx8snmAWQU2bKUOTCaICT2zOYCncvxxcMeHquoOAQME+fswonxbly2puVh9zbx1Yx8ig/3d1k6Avw5rg5+PmT9Scth7ks2rRUREGgsFQC9wfqdozKayAHXiggw41iMXHeKPn4/7/kg0Dw/AbIKiEgeH8ooBKC61k1H+fXWHmy8t3xQa4NmretCteeUj3moqMtjfNWfRGVBFREQaKwVALxAR5Eff8mPbfq1iGPhst4A5HT8fs6tO51YwaeUnjlh9zUQG+VWrngu6xHDjwFY8fXlXLi/fvLk2ONvq/H2IiIg0VgqAXuLCUwwDp9TCAhAn15Fw5cOqzt61MzlxxNdi5ukrunHjoAS3t+94zvefogAoIiKNnAKgl3DOA1y+5zA5hSWu6wXFpfxcflawOxeAOJ24GXRtLDZxl7iwsvmPqTkKgCIi0rgpAHqJVpFBdIgJxu4wWLA9A4D03CKueSuJFXsO4+9j5k/HzbVzl5YR5SuBs8pWAnt0AHQNARfVc0tERERqlwKgF3H2Av6yOZ2tablc8cYSNh3MJTLIj8/uGEj3Fu5fXOHaC7C8B7C25hu6g+YAioiIt1AA9CKJncsC4G9bMvjzm0mk5hTRtmkQ39w1hHNaNqmVZ7Y84Tg4T+4BbH7cHEDtBSgiIo2ZAqAX6dkinOgQf46W2MkvLmVgmwi+vnMILct76WqDs+7MfBv5xaVntAdgXYsJK9tbsLjUwZHj5kmKiIg0NgqAXsRsNnF5r7J5fmN6N+fDW/sTFuhbq88MtfrSpPwZ+7IKOFi+DYwn9gD6+1hoGlIWAjUMLCIijZlPfTdA6tY/R3fi2n7xtG0aXO1tWGqqZWQQRwqzWZOc7TpxJDbMfSeOuFNceACH8opJyT5aKxtOi4iIeAL1AHoZX4uZdtEhdRb+ANcJG8t2ZQEQE2J12zm+7tY8vCyYqgdQREQaM8/8V1gaFedCkKTdZQHQE+f/OcWFlbUtNUdbwYiISOPltgC4Zs0a/vjjD9fP3333HVdccQWPPPIINpvNXY+RBsi5EORwQdmfA0+c/+fUTKeBiIiIF3BbAPzrX//K9u3bAdi9ezdjx44lMDCQL774gn/+85/ueow0QM4hYCdP3APQSUPAIiLiDdwWALdv306vXr0A+OKLLxg2bBiffvopH3zwAV999ZW7HiMNUKvIoAo/e/QQsDaDFhERL+C2AGgYBg6HA4Bff/2Viy++GID4+HgyMzPd9RhpgKJD/PHzOfZHzdnL5omcATAjr5gSu6OeWyMiIlI73BYA+/btyzPPPMP//vc/Fi5cyCWXXALAnj17iImJcddjpAEym02uhSAAzcNrb+PpmooM8sPPx4xhQJoWgoiISCPltgD4yiuvsGbNGiZMmMCjjz5Ku3btAPjyyy8ZPHiwux4jDdTx8wDjPLgH0GQyERfWsOcB2kodfLcuhexCLb4SEZGquW0j6B49elRYBez0/PPPY7FY3PUYaaCcK4FDrT6EWGv39JGaigsPYG9WIQdzqg6A87dlsC45m3tGtMPHA/cznPz9Rj5bsZ8xvZvz8rW96rs5IiLigdz2r9f+/fs5cOCA6+cVK1YwceJEPvroI3x9PfsffKl9ziHg5k08d/jX6dhCkMpDwIZh8OCXG3h13g5+/CO1rpt2Wkm7svhsxX4AftqYSn5xaT23SEREPJHbAuB1113H/PnzAUhLS+OCCy5gxYoVPProozz11FPueow0UEPaRWH1NXNex6b13ZTTOtUQcEr2UTLyigH4cvWBSq/Xp6ISOw9/veG4nx38vDGtHlskIiKeym0BcOPGjfTv3x+Azz//nG7durF06VI++eQTPvjgA3c9RhqoDjEhbJg8igdHd6rvppzWqbaCWZuc7fp+8c7MU24YfdRmZ8WewyzdmcniHZks3H6I+dsyWJt8BMMw3N7uV+ftYG9WITGh/vzl3NYAfLsuxe3PERGRhs9tcwBLSkrw9/cHyraBueyyywDo1KkTqameN1Qmde/4rWA82amGgNftz3Z9bxjwzZoDTBjRvsp6/vbxahZuP1Tla+/d0pcRndy3On7TwRzeXrQbgKcv70bH2BDeWbyHJTszycgrIjrEcxfeiIhI3XPbv8hdu3Zl2rRp/P7778ydO5fRo0cDcPDgQSIjI931GJFa5wqAVSwCcQbAIe3K/kx/ufpAlb15y3dnsXD7ISxmEx1jQugUG0KXZqFEh5T9R9Ki7e7bG7PU7uDBrzZgdxhc3D2WC7vG0ioyiN4tw3EY8MN6/QeYiIhU5LYA+Oyzz/LWW29x3nnnMW7cOHr27AnA999/7xoaFmkInNvU5BWVkltU4rpeYnewMSUHgIcv6kygn4W9WYWs2nekUh0v/1p2LOLYfvH8fN8w5kwcxux7h/LYpV0AWF3FPWfrvSV72JiSS1iAL09c1tV1/YpezQH4TsPAIiJyArcFwPPOO4/MzEwyMzN57733XNfvuOMOpk2b5q7HiNS6QD8fwgPLVq6nHjcMvDU1j+JSB2EBvnSNC+WS7s0A+GLV/gr3L92VybLdh/GzmLn7/HYVXjunVRMANqfmUmir+QrdfVkFvDS3LGw+eknnCkO9l/ZohsVsYsOBHHYdyq/xs0REpPFw66Qsi8VCaWkpixcvZvHixRw6dIiEhASio6Pd+RiRWhcXVnkhyLr9Zb12PePDMZlM/LlPCwB+3JDqCnOGYfDK3B0AjO0f7xpOPlavldhQK3aHwYYDOTVu55TZWykqcTC4bSRXl7fHKTLYn2HtowD4bm3lXsBtaXmMfTtJPYQiIl7IbQGwoKCAW2+9lWbNmjFs2DCGDRtGXFwct912G4WFhe56jEidcAa341f5OlcA94oPB6B/6whaRgRSYLPz0x9l260s2ZnFir2H8fMxc9d5FXv/oOykkXNald2/Jrlmw8Dr92czZ1MaZhM8cVlXTCZTpTJX9C4bBv523cEKcxX3Hy7kxneXs2z3YV6au71WViWLiIjnclsAnDRpEgsXLuSHH34gOzub7OxsvvvuOxYuXMj999/vrseI1Inm5fMAU3OO7wHMBqB3eQA8vhfQuRjEOffvuv4tiQ2reuXtOS3LhoHX1HAe4HM/bwVgTO8WdIgJqbLMBV1iCPSzkHy4kDXlATYrv5ib31vh2s9wX1YhOzM0RCwi4k3cFgC/+uor3n33XS666CJCQ0MJDQ3l4osvZvr06Xz55ZdnXN8bb7xBQkICVquVAQMGsGLFipOW3bRpE1dddRUJCQmYTCZeeeWVSmWeeOIJTCZTha9OnTx/TzqpH81O2Aomp7CE3ZkFQNkQsNNVfVpgMkHS7iw+XZHM6n1H8Pcxc9d5bU9ad5/yeYBrkrPPuudt8Y5MluzMws9iZmJi1dvQQNl8xlFdY4GyxSAFxaXc+sFKdmcWEBdmdfVm/rol46zaISIiDZPbAmBhYSExMZX3NYuOjj7jIeCZM2cyadIkJk+ezJo1a+jZsyejRo0iI6Pqf6QKCwtp06YNU6dOJTY29qT1du3aldTUVNfX4sWLz6hd4j1OHAJedyAbgFaRgUQE+bnKNQ8PYHDbsi1hHv9uEwA3DGxFdOjJ993rGheGn4+ZwwU29mad+fQIwzBcvX/XDWhJfMSpj9e7vFccALM2pPK3j1ez/kAOTQJ9+ei2AVxV3oP565b0M26HiIg0XG4LgIMGDWLy5MkUFR1bNXn06FGefPJJBg0adEZ1vfTSS9x+++2MHz+eLl26MG3aNAIDAyusLj5ev379eP755xk7dqxrM+qq+Pj4EBsb6/qKioo6o3aJ93AOATsXgawrHz7tfVzvn5NzGNjuMLD6mvnb8JP3/kHZhtg9mocBZ7cdzJyNaWw4kEOgn4UJIyrPMzzRue2iiAr243CBjd93ZBLoZ+H98f1pFx1MYueyBVprko+QlV98xm0REZGGyW0B8NVXX2XJkiW0aNGCkSNHMnLkSOLj41m6dCmvvvpqteux2WysXr2axMTEY400m0lMTCQpKalGbdyxYwdxcXG0adOG66+/nuTk5BrVJ42XswcwPbcIu8NwrQDuVUUAHN21GcH+ZYfq3DwogaYhJ/+PECfnMPCZBsBSu4Pnf9kGwF+GtiEq+PTP8rGYubRHWS+gj9nEtBv6uN5Hs7AAusaFYhjw21YNA4uIeAu3HQXXrVs3duzYwSeffMLWrWXDU+PGjeP6668nICDgNHcfk5mZid1urzScHBMT46r3bAwYMIAPPviAjh07kpqaypNPPsnQoUPZuHEjISGVJ9AXFxdTXHysRyQ3N/esny0NT3SIFYvZRInd4FBesWsBSK/yBRzHC/Cz8PifurBgW0aVK3+r0ru8nrVnuBL46zUp7D5UQJNAX24f2rra990xrA0HjhRyTd94hnVoWuG1xM4xbDqYy7wtGVzdN/6M2iMiIg2T2wIgQGBgILfffrs7q3Sbiy66yPV9jx49GDBgAK1ateLzzz/ntttuq1R+ypQpPPnkk3XZRPEgFrOJ2FArKdlHSdqdyZHCEvwsZjo3q3q17TV947nmDMKTcyuYbel55BaVEGr1Pe09RSV21yrju89vR0g17nGKCw/gnZv7VflaYucYXp23g0U7DlFUYsfqa6l2vSIi0jDVKAB+//331S572WWXVatcVFQUFouF9PSKk9LT09NPucDjTIWHh9OhQwd27txZ5esPP/wwkyZNcv2cm5tLfLx6R7xJXHhZAJxdvsdfl7hQ/H3cE46iQ6zERwSw//BR1u/PZmj7pqe957V5O0jNKaJZmJUbBrZySzsAujUPJSbUn/TcYpbtzuK8jtq4XUSksatRALziiiuqVc5kMmG326tV1s/Pjz59+jBv3jxX/Q6Hg3nz5jFhwoSzbGll+fn57Nq1ixtvvLHK1/39/U+5oEQav7J5gEdYuP0QUPX8v5ro07IJ+w8fZfW+I6cNgB8s2cN/F+wC4MHRndzaS2cymRjZOYZPlyfz65Z0BUARES9Qo0UgDoejWl/VDX9OkyZNYvr06Xz44Yds2bKFO++8k4KCAsaPHw/ATTfdxMMPP+wqb7PZWLduHevWrcNms5GSksK6desq9O794x//YOHChezdu5elS5cyZswYLBYL48aNq8mvQBqxZuXHwdlKHQD0bhnu1vqruxDk6zUHeOKHzQDcl9jBdbqHO13QuWzO7bwtGToVRETEC7h1DmB1dO/endmzZ59yOPXaa6/l0KFDPP7446SlpdGrVy/mzJnjWhiSnJyM2Xwsux48eJDevXu7fn7hhRd44YUXGD58OAsWLADgwIEDjBs3jqysLJo2bcq5557LsmXLaNr09ENv4p2cW8E4ubsH0LkQZF1yNg6Hgdlc+Si3uZvTeeDLDQCMH5LA30dWb5HJmRrUNpIAXwupOUVsOphLt/JtakREpHGq8wC4d+9eSkpKTltuwoQJJx3ydYY6p4SEhNP2WsyYMaPabRSBY1vBAEQE+dHyNBsun6lOsSEE+lnIKy5lR0Y+HWMrLjBJ2pXF3Z+uwe4wuOqcFjx2SZcqz/t1B6uvhaHto/hlczrztmRUKwAmZxUSFuhLWED1F6OIiIhncNs+gCKNzfEBsGeLMLeHLx+L2dWreOIw8Kq9h7n9o1XYSh1c0CWGZ6/qXmUPoTsllg8DV+dUkJV7DzPixQXc+sHKWm2TiIjUDgVAkZOICzsWAHvFV97/zx3Oaek8F7gsADocBm8v2sXYt5eRX1zK4LaR/Gdcb3wstf9/1fM7RWMywR8pOaTlFJ20XKndwWPfbqTUYbB63xHSc09eVkREPJMCoMhJhAb4EORXttq2l5sXgDg5F4Ks2XeEIwU2/vLRKv49eyulDoNLejRj+k1962xfvqYh/q6j7uZtPXkv4P+W7WNrWp7r5yU7M2u7aSIi4mYKgCInYTKZ+OvwtiR2jmZgm4haeYZzZfHuzAIuevV3ftuagZ+PmWeu6Mbr43oT5F+303RHlg8Df7IsmYLi0kqvH8or5qVfyjajTogsmxO5WAFQRKTBUQAUOYW/j2zPOzf3c9sG0CcKD/SjbdMgANJyi2gdFcQ3dw3mhoGtam3Bx6mM6d2csABfNqfmcsf/VlFUUnELp6k/bSWvuJRuzUN56vJuQFkP4KkWYe3JLCA152ittltERM5MnQfAt956q9I5vyLezNnrdnmvOH6451y6xtXfFixx4QF8ML4fQX4WluzMYsKnaymxl+2DuHrfYb5acwCApy7vRv/WEfj7mEnPLWbXofwq6zuYfZSLXl3Elf9d6tpPUURE6p/bxpdee+21Kq+bTCasVivt2rVj2LBhXHfdde56pEij8ODoTtw4sBUtmgTUS6/fiXq3bMI7N/fjlvdX8OuWdP7xxXpeuLonj327CYBr+8a7Fq/0S4hg8c5MFu/IpF105XOSv12XQlGJg9ScIpbszOT8TjplRETEE7gtAL788sscOnSIwsJCmjQp+8fhyJEjBAYGEhwcTEZGBm3atGH+/Pk6U1fkOBaziXg37zFYU4PaRvLmDedwx0er+W7dQbal5bE1LY9Qqw//HN3RVW5Iu6iyALgzi1uGtK5Qh2EYfLMmxfXzDxsOKgCKiHgItw0B//vf/6Zfv37s2LGDrKwssrKy2L59OwMGDODVV18lOTmZ2NhY7rvvPnc9UkRq0YhOMbwythdmE65Vvw+M6khk8LEzss9tFwXAst1ZlNorDvFuTs1lR8axoeG5m9IrzSkUEZH64bYA+H//93+8/PLLtG3b1nWtXbt2vPDCCzz88MO0aNGC5557jiVLlrjrkSJSyy7tEcfUK3tgMsE5LcO5bkCrCq93iQslPNCX/OJS1h/IqfDat2vLev9Gd40lNtRKXnEpi7YfqrO2i4jIybktAKamplJaWnnbiNLSUtLS0gCIi4sjLy+vUhkR8VzX9Isn6aGRzLhjEJYTTiOxmE0MbhsJVNwP0O4w+G7dQQCuPKc5F3dvBsCsDal11GoRETkVtwXA888/n7/+9a+sXbvWdW3t2rXceeedjBgxAoA//viD1q1bn6wKEfFQsWFW/Hyq/utiSPkw8PH7ASbtyiIjr5jwQF/O6xjNpT3LAuCvW9I5atMwsIhIfXNbAHz33XeJiIigT58++Pv74+/vT9++fYmIiODdd98FIDg4mBdffNFdjxQRD+CcB7g2+Yhr8+hv15UN/17SvRl+PmZ6x4fTPDyAQpud+dsy6q2tIiJSxm2rgGNjY5k7dy5bt25l+/aykwI6duxIx47HVgyef/757nqciHiIlhGBtGgSwIEjR1mx9zADW0cyZ2PZtI8xvZsDZdtBXdqjGW8t2s2sDQddQ8IiIlI/3BYAFy9ezLnnnkunTp3o1KmTu6oVEQ9nMpk4t10UM1buZ8mOTPKLSskvLqVFkwDXWcdQtqDkrUW7+W1rBgXFpXV+zJ2IiBzjtiHgESNG0Lp1ax555BE2b97srmpFpAE4fh6gc/XvFb2aV9jYulvzUFpFBlJU4mDeVg0Di4jUJ7cFwIMHD3L//fezcOFCunXrRq9evXj++ec5cOCAux4hIh7KuRJ4a1oeC8q3ermid1yFMs5hYIBZ6w/WbQNFRKQCtwXAqKgoJkyYwJIlS9i1axdXX301H374IQkJCa5VwCLSOEUG+9OlWShQtgVM9+ZhVR4Nd2mPslC4YPsh8opK6rSNIiJyjNsC4PFat27NQw89xNSpU+nevTsLFy6sjceIiAc5t32U6/sryhd/nKhTbAhtmwZhK3Uwd3N6XTVNRERO4PYAuGTJEu666y6aNWvGddddR7du3fjxxx/d/RgR8TDOeYBmE/ypZ9WrfE0mE5eU9wJqU2gRkfrjtmV4Dz/8MDNmzCAlJYULL7yQV199lcsvv5zAQM865F5EasfgtpFc2zeettFBRIdYT1ruTz2a8dq8Hfy+4xBHCmw0CfKrw1aKiAi4MQAuWrSIBx54gGuuuYaoqKjT3yAijYqvxcyzf+5x2nLtY0Lo0iyUzam5/PhHKjcMbHXae443Z2Mae7MKuGNoG8wnHE0nIiLV47YAuGTJEgA2b97MqlWrsNlsFV6/7LLL3PUoEWngxvRuzubUXL5Zm3JGAbCoxM7EmWspKnEQFezPn/u0qMVWiog0Xm4LgHv27GHMmDFs2LABk8mEYRgArn3A7Had/ykiZS7rFceUn7awet8RkrMKaRlZvakiy3ZnUVTiAOD5n7dycfdYAv20obSIyJly2yKQv//97yQkJJCRkUFgYCCbNm1i0aJF9O3blwULFrjrMSLSCMSEWl2LRpznBlfHgm2HXN+n5xbz9qLdbm+biIg3cFsATEpK4qmnniIqKgqz2YzZbObcc89lypQp/P3vf3fXY0SkkbiiV9lWMd+uTXGNGJzOwvJNpi/rWbaS+K2Fu0nLKaqdBoqINGJuC4B2u52QkLKNX6Oiojh4sGyn/1atWrFt2zZ3PUZEGolR3WKx+prZnVnAhgM5py2/L6uAPZkF+JhNPDOmG31aNeFoiZ0XftHfLyIiZ8ptAbBbt26sX78egAEDBvDcc8+xZMkSnnrqKdq0aeOux4hIIxHs78OorrEAfLP29MPAzt6/Pq2aEGr15f8u6QzAV2sOsDHl9AFSRESOcVsA/L//+z8cjrLJ2U899RR79uxh6NChzJ49m9dee81djxGRRsR5YsgP6w9SYnecsqxz/t95HaMB6N2yCZf3isMw4F8/bqn2MLKIiLhxFfCoUaNc37dr146tW7dy+PBhmjRp4loJLCJyvKHtoogK9iMz38biHZmc3ym6ynJFJXaW7soE4LyOTV3XHxjVkZ82ppG0O4tft2RwQZeYOmm3iEhDVytnATtFREQo/InISflYzPypfEHHqYaBV+w5TFGJg5hQfzrFhriut2gSyF/ObQ3Av2dvobhU202JiFRHrQZAEZHTGVM+DPzL5jTyi0urLOOc/ze8Q9NK/1F553ltiQr2Y09mAQ98sQGHQ0PBIiKnowAoIvWqe/Mw2jQNoqjEwZyNaVWWWbAtAzg2/+94IVZfXh3bGx+zie/XH+Sludtrtb0iIo2BAqCI1CuTycSVvY/tCXii/YcL2XWoAIvZ5No8+kRD2kXx7yu7A/D6/J3MXJlcew0WEWkEFABFpN5dXr4p9OKdmXx3wskgC5zbv7RsQliA70nruKZvPH8f0Q6AR77ZyKLth05aVkTE2ykAiki9i48I5LbyxRz3f77eNecPYGH58O/w41b/nsx9F3RgTO/m2B0Gd32yhq1pubXTYBGRBk6nqIuIR3j04s5k5BXzw/qD3Pnxaj69fSCdm4WwdFcWUHH7l5MxmUxMvao7B7OPsnzPYca+vYweLcKJDvEnJtSf6BAr7WOCGdy26qHkU9l/uJAvVx/gjmFtCPLXX50i0rDpbzER8Qhms4kXr+5JdqGN33dkMv79FUy6oAOFNjtNQ/zp0iy0WvX4+1h4+8a+XDVtKTsz8qscCv74tgGc2/7MQuCUn7Yw+480DGDSBR3O6F4REU+jACgiHsPPx8ybN/ThuunL2HAgh8e+2wRUvf3LqYQF+jLrnnNZvucw6blFHMorJiO3iOV7DrM1LY/ZG1PPKAAahsGy3YcBWLzjkAKgiDR4CoAi4lGC/X14/5Z+XD0tid2ZBUD1hn9PZPW1MLxDxfvmb8tg/Psr+W1LBsYVRrVD5a5D+RwusAGw/kAOeUUlhFhPviBFRMTTaRGIiHicyGB/Pry1P3FhViKC/Bja/swDYFUGtYkk0M9CWm4Rmw5Wf4HI8j2HXd/bHQbLdx8+RWkREc+nACgiHik+IpBf7x/OggfOO+X2L2fC6mthaPnQ79zN6dW+b2V5APS1lPUYLik/l1hEpKFSABQRjxXo50Oom4daR3aOAWDe1uoHwBXlAfDqvvEALNmpACgiDZsCoIh4lRGdojGZYGNKLqk5R09b/sCRQg7mFOFjNnH3+e0wmWB7ej4ZeUV10FoRkdqhACgiXiUq2J/e8eEAzNuScdryzt6/rs3DaB4eQNe4su1oksr3JxQRaYgUAEXE67iGgbecfhjYGQAHtI4AYEj5JtKLd2gYWEQaLgVAEfE6F3QpC4BLdmVRaCs9ZdkVe8sCYP+E8gDYriwALtmZiWEYtdhKEZHaowAoIl6nfXQw8REB2Eod/H6KnrxDecXsPlS2F2HfhCYA9EuIwM9i5mBOEXuzCuukvSIi7qYAKCJex2QyMbLT6YeBV5X3/nWKDSE80A+AAD8L57QKB2pnNfCO9DyKSuxur1dE5HgKgCLilZzDwL9tzcDhqHoo17kBdP/y+X9OznmA7g6A87dmcMHLi3js241urVdE5EQKgCLilfolRBDi70Nmvo11B7KrLONcANIv4YQAWL6ZdNLuLOwnCY9nY/YfqQB8v/4geUUlbqtXRORECoAi4pX8fMwMKz9j+NcqTgXJLSphS1rZcXEn9gD2aB5GiL8P2YUlbD6DI+VOxTAMV49icanjjE4qERE5UwqAIuK1LnBtB1N5P8DVe49gGJAQGUhMqLXCaz4WMwPaRALuOxZuT2YBB3OObS793bqDbqlXRKQqCoAi4rXO69gUi9nEtvQ8dh/Kr/Da8pMM/zoNaVceAN00D9BZT6vIQAAW78wkK7/YLXWLiJxIAVBEvFZ4oJ9rg+frpi9n3f5s12sr91a9AMTp3PL9AFfuPeyWVbuLywPgNX3j6d48DLvDYPbGtBrXKyJSFQVAEfFq/x7TnTZNg0jLLeKaaUnMWJFMUYmdDeULQwa0jqzyvnbRwUSH+FNU4mBN8pEatcHuMFhafrTckHZRXNYzDoAfNAwsIrVEAVBEvFpCVBDf3T2EC7vEYLM7eOjrPxj//kpK7AYxof7ERwRUeZ/JZGJw27JwuKyG5wL/kZJDXlEpIVYfujcP49KezTCZyk4hOZh9tEZ1i4hURQFQRLxeiNWXaTf04YFRHTGZyrZ3AejfOhKTyXTS+/qVDw+vSc6u0fOd8/8Gt43EYjbRLCzANfdw1gb1AoqI+ykAiogAZrOJu89vxwfj+xMW4AvAkLZVD/869Y4vOx5u3f7sGu0H+PuOQ8CxeYWAaxj4+/UKgCLifgqAIiLHGd6hKT/dO5SXr+3JVX1anLJsx9gQAv0s5BeXsjMj/5RlT6bQVsqafdlA2fw/p4u7N8PHbGJjSi67Dp1d3SIiJ6MAKCJygrjwAMb0boGv5dR/RVrMJnq2CAdg7VkuBFm59wg2u4O4MCuto4Jc1yOC/Di3/MSR77UYRETcTAFQRKQGzmkVDnDWK4Gd8/+GtIuqNN/QtRp4/UEMw31HzomIKACKiNSAcx7g2S4EWbyjLAA6e/uOd2HXWPx9zOzOLGCTm46cExEBBUARkRrp3TIcgJ0Z+eQcLTmje7Pyi9mcWhbsBretHACD/X0Y2TkagO/WpdSsoSIix1EAFBGpgchgf9fxbcefJFIdzs2fO8WG0DTEv8oyV/RqDsCMFfs5UmA7+4aKiBxHAVBEpIbOaVk2DHymC0Gc8/+O3/7lRImdY+jSLJS84lLemL/z7BspInIcBUARkRpyDgOfyTxAwzD4vXz+35Aq5v85mc0mHryoEwAfJe3jwJHCs26niIiTAqCISA05ewDXJR/BUc0NoZMPF5KSfRRfi4n+5ad+nMyw9lEMahOJze7g5bk7atxeEREFQBGRGuoYG4LV10xuUSm7M0+/afPSnZn87eM1APRu2YQgf59TljeZjvUCfr32AFvTtCJYRGpGAVBEpIZ8LWZ6lG8Ifaph4F2H8vnLhyu57p3lbEnNJcTqw8SR7av1jF7x4VzcPRbDgOfnbHNDq0XEmykAioi4gXMeYFULQY7a7Dzx/SZGvbyIX7dkYDGbuHlQKxY+cD6DT7EA5ET/uLAjFrOJeVszWLHncLXuWZN8hIPZR6v9DBHxDgqAIiJucGwlcHal1x77biMfLN1LqcMgsXM0P08cxpOXdyMiyO+MntGmaTDX9osHYOpPW057Osi0hbu48r9LGfXyojPeokZEGjcFQBERN3D2AG5LzyOv6NiG0L/vOMSXqw9gMsH0m/ryzs39aBcdfNbPuXdke6y+ZtYkZ/PzpvSTlntzwS6m/rQVgLziUm58dznrFQJFpJzHBsA33niDhIQErFYrAwYMYMWKFSctu2nTJq666ioSEhIwmUy88sorNa5TRORMRIdYadEkAMOADQdyACi0lfLIN38AcNPAVlzQJabGz4kJtXLrkNYA/H3GWl6au52iEnuFMv9dsJNn55SFvwnnt6N/QgR5RWUh8I/ytomId/PIADhz5kwmTZrE5MmTWbNmDT179mTUqFFkZGRUWb6wsJA2bdowdepUYmNj3VKniMiZ6l0+DLxmX9k8wJd+2c7+w0eJC7PywOhObnvOXee3Y1iHpthKHbw2bwcXvLyQXzeX9Qa+MX8nz5UvEpl0QQf+Maoj743vR99WTcgtKuWGd5ezMUUhUMTbmYzTTSKpBwMGDKBfv368/vrrADgcDuLj47nnnnt46KGHTnlvQkICEydOZOLEiW6rEyA3N5ewsDBycnIIDQ09uzcmIo3a+0v28OQPmzm/Y1MmJnZgzH+X4DDg/fH9OL9jtFufZRgGP21M4+lZm0nNKQKga1womw6WbRFz/wUduOe4Fcb5xaXc9O5y1iRnExbgyyd/GUC35mFubZOI1J2a5hKP6wG02WysXr2axMRE1zWz2UxiYiJJSUl1VmdxcTG5ubkVvkRETsXZA7h2fzYPfrUBhwGX94pze/iDsr0BL+7ejF8nDefO89riazG5wt8/LqwY/gCC/X348Nb+9G4ZTs7REm55fwWpOVodLOKtPC4AZmZmYrfbiYmpOFcmJiaGtLS0OqtzypQphIWFub7i4+PP6tki4j26NAvFz8dMdmEJW9PyaBLoy+OXdqnVZwb5+/Dg6E78dO8wrjynOf8a040JI6reWzDE6suHt/anU2wImfk27vx4DcWl9irLikjj5nEB0FM8/PDD5OTkuL72799f300SEQ/n52Om+3HDqpP/1JXIYP86eXa76GBeuqYX1w9odcpyoVZf3r6xL6FWH9btz+apHzbXSftExLN4XACMiorCYrGQnl5xe4P09PSTLvCojTr9/f0JDQ2t8CUicjoD25Sd63tex6Zc3iuunltTtZaRgbw6rjcmE3yyPJnPV7n/P3C3pOby29aTb1MjIvXL4wKgn58fffr0Yd68ea5rDoeDefPmMWjQII+pU0SkKn8b3papV3bnP+N6YzKZ6rs5J3V+x2juS+wAwP99u9Gt28Nk5hdz7VtJ3PrBKuZv1U4LIp7I4wIgwKRJk5g+fToffvghW7Zs4c4776SgoIDx48cDcNNNN/Hwww+7yttsNtatW8e6deuw2WykpKSwbt06du7cWe06RUTcIcTqy9j+LQmx+tZ3U05rwvntSOwcja3Uwd8+Xs3hAptb6n1+zjZyi0oBmPLTFuwOj9tsQsTr+dR3A6py7bXXcujQIR5//HHS0tLo1asXc+bMcS3iSE5Oxmw+ll0PHjxI7969XT+/8MILvPDCCwwfPpwFCxZUq04REW9jNpt48ZpeXP76YvZmFTJx5jo+HN/vlD2XyVmF2Ox22kWHVPn6+v3ZfL66bEg5yM/C9vR8vlp9gGv6aSGdiCfxyH0APZH2ARSRxmpbWh6Xvb6Y4lIHn94+gMFto6osl11oY/jzC8gvLuWtG/qQeMLJJg6HwZg3l7J+fzZX9m5Ol7hQnvlxCzGh/iz4x/kE+Fkq1fnjhlSW7srksUu7YPWt/LqIVK3R7QMoIiJ1q2NsCGPLe+jemL/zpOWm/76bnKMl2B0Gd3+6hmW7syq8/uXqA6zfn02wvw8PXdSJGwe1okWTANJzi3lvyZ5K9f2w/iATPlvDJ8uT+X7dQfe+KRE5JQVAERHhjuFt8TGbWLIzi7XJRyq9frjAxgdL9gLQPjqY4lIHf/lwFRsOZAOQc7TEdf7wvSPbEx1qxd/HwgOjOgLw5oJdZOUXu+pbuP0Qkz5fh3MM6jctFhGpUwqAIiJC8/AAxvRuDsAb83dVen3677spsNnp0iyUH+45l4FtIsgvLuXm91awMyOPV37dTlaBjbZNg7h5cILrvj/1iKNb81Dyi0t5bd4OANYkH+Fv/1tNid3gnJbhAPy+45A2pRapQwqAIiICwN/Oa4vJBL9uSWdr2rHjLw8X2Phw6V4AJia2x+pr4Z2b+9GjRRhHCku4bvpyPkraB8ATl3XFz+fYPy1ms4lHLuoMlO05+POmNMa/v5KjJXaGdWjKZ3cMJDrEnwKbnRV7DtfdmxXxcgqAIiICQNumwVzcrRlQNmTr9Pai3RTa7HRrHsoF5Qs/gv19+GB8f9pFB5ORV4zdYTC6ayxD2zetVO/gdlGc17EppQ6Dv/5vNTlHS+jdMpxpN5yDv4+FEZ3Kzkqet0XDwCJ1RQFQRERc7jq/LVC2QGNvZgFZ+cV8lLQXgIkjO1TYIiYiyI+PbxtAm6ggooL9efSSziet96GLOuG8tWNMCO/f0o9Av7KdyFwBcGs62phCpG545D6AIiJSP7rGhXF+x6bM33aItxbtItTqS6HNTo8WYYzsHF2pfGyYlbmThlNUYifI/+T/pHSKDeWfozqRtDuL5//cg/BAP9drQ9pF4edjZv/ho+w6lH/SPQZFxH3UAygiIhXcfX47oGxbF+fcvomJ7U+6QbTFbDpl+HO687y2fHRrf2JCrRWuB/n7MKhNJKBhYJG6ogAoIiIV9E2IoH/rCErsBkdL7PRsEcb5HSv3/rmTs3dxnraDEakTCoAiIlLJhPJeQICJiR1OeTycOzgD5up9R8gurHwmscNhVNhHUERqRgFQREQqGdo+ir8Ob8Nfh7fhvI6VV/a6W3xEIB1jQrA7DBZuP1ThNcMw+PuMtfT716/8tjW91tsi4g0UAEVEpBKTycTDF3Xm4Ys613rvn9OI8mHgE08FeWvRbmZtSMVhwNOztlBid9RJe0QaMwVAERHxCCPLt4NZsO0QpeUhb+nOTJ4rP2LO38fMnswCPl2eXG9tFGksFABFRMQj9G7ZhPBAX3KOlrAmOZuD2Ue557O1OAy4uk8L/u/SLgC8Om8HuUUl9dxakYZNAVBERDyCxWxyLQb5aWMqd32yhqwCG13jQnn6im6M7RdPm6ZBHC6wMW1B5fOKRaT6FABFRMRjOE8FeX/JXtbtzyYswJdpN/TB6mvB12LmodGdAHh38R4OZh+tz6aKNGgKgCIi4jGGdWiKxVy26MRkglfG9iI+ItD1+gVdYuifEEFxqYOX5m6vr2aKNHgKgCIi4jHCAnwZ0i4KgHtHtq+0AbXJZOKR8jOHv1pzgM0Hc+u8jSKNgQKgiIh4lBev7sn/buvPvSPbV/l6r/hwLu3RDMOAKT9tqePWiTQOCoAiIuJRmob4M7R901PuP/jPUZ3wtZj4fUcm87fp+DiRM6UAKCIiDU7LyEBuHpQAwP99s5GC4tL6bZBIA6MAKCIiDdJ9F3SgeXgAKdlHeeGXbfXdHJEGRQFQREQapCB/H6Zc2R2AD5buZU3ykRrXmZpzFIfDqHE9Ip5OAVBERBqsYR2acuU5zTEMePDLDRSX2s+6ru/WpTBoym+88qu2l5HGTwFQREQatMcu6UJkkB87MvL57/zKJ4QYhnHao+MMw+DN8tNF/rdsH7ZSR620VcRTKACKiEiD1iTIjycu6wrAfxfsZHt6HgCHC2y8u3gPo15ZRI8nfuHT5cknrWPVviNsTSu770hhCb9t1cpiadx86rsBIiIiNXVpj2Z8t+4gv25JZ9Ln60iIDOKXTenY7Md68l78ZRtX9I4j0K/yP33/S9oHgNXXTFGJg6/WHGB0t9g6a79IXVMPoIiINHgmk4lnruhGiL8PG1NymbUhFZvdQbfmoTx9eVdaRgSSVWDj42X7Kt17KK+YnzamArgWlczfmkFWfnGdvgeRuqQAKCIijUJsmJWpV/WgdVQQNw5sxax7zmXWPUO5cVACE0a0A+CthbsptFXcM3DmymRK7Aa9W4YzpncLerQIo9Rh8P36g/XxNkTqhAKgiIg0Gpf0aMb8f5zH01d0o1vzMNf1Mb2bV9kLWGp3uOYG3jiwFQBXndMCgC9XH6jDlovULQVAERFp9Hwt5ip7AedtzeBgThERQX5c3L0ZAJf1jMPXYmLTwVy2puXWW5tFapMCoIiIeIWqegGd/3tN33isvhagbFXxiE7RAHylXkBppBQARUTEK5zYC7jpYA6/78jEZILrB7SsUPbPfeIB+GbtQUrt2hNQGh8FQBER8RrH9wLe9sEqAM7vGE18RGCFcud1bEpkkB+Z+cUs2nGowmsZuUUV9hsUaYgUAEVExGsc3wuYllsEwI2DWlVZ7rJecQB8tToFAFupg7cW7uL8Fxbw3Jxt3PDOcrILbXXUchH3UgAUERGv4uwFBGgZEcjw9k2rLOdcDTx3czrfrUth1CuLmPLTVgpsdnzMJjLyinnsu0111m4Rd1IAFBERr+JrMfPYpV0I8rNw3wXtMZtNVZbrGhdKp9gQbHYH985Yx57MApqG+PPC1T358s7BWMwmflh/UPsFSoOkACgiIl7ngi4xbHpqNGN6tzhpGZPJxDV9yxaD+FpM/HV4G367fzh/7tOCXvHh3H1+2VDyY99uJL18OFmkodBZwCIiIidxy+AEokP96RYXRkJUUIXX7hnRjt+2prMxJZd/frmBD8b3w2Sq2Jt4uMBGsL8Pfj7qbxHPoj+RIiIiJ2E2m7i0R1yl8AdlQ8kvX9MLPx8zC7cf4tMVZSeKHLXZ+XrNAa59K4lznp7LTe8tx+4w6rrpIqekHkAREZGz1D4mhH+O6sgzP27hmVlb+ONADj9uSCWv+Nh5w8t2H+ajpL2MH9K6HlsqUpF6AEVERGrg1iGtGdA6gqMldmas3E9ecSnxEQHcf0EH/nFhBwCe/3kb+w8X1nNLRY5RD6CIiEgNmM0mXrq2F/d/vo7YUCvX9ItnYOtIzGYTDofBou2ZrNh7mEe++YOPbu1faZ6gSH0wGYahiQnVkJubS1hYGDk5OYSGhtZ3c0REpIHYfSif0a/+jq3UwYtX9+SqPidfeSxSXTXNJRoCFhERqUVtmgYzMbE9AE//uJlDecX13CIRBUAREZFad/vQNnRpFkp2YQlP/KDTQ6T+KQCKiIjUMl+Lmef+3AOL2cSPG1L5cvUBSu2O+m6WeDHNAawmzQEUEZGamvrTVqYt3AVAiNWHQW0iObd9FEPaRdEmKkgLRKTaappLtApYRESkjkxMbE/OURuz/0gj52gJv2xO55fN6UBZIGwTFURCVBAJkUG0jgpicNtIokOt9dxqaYzUA1hN6gEUERF3sTsMNqbksHhnJkt2ZrJq7xFsVQwJh/j78M7NfRnQJrIeWimerKa5RAGwmhQARUSkthSV2NmXVciezAL2ZhWw51ABq5OPsDMjH38fM29cdw6JXWLqu5niQRQA64gCoIiI1KWiEjsTPl3Dr1sysJhNPP/nHlx5jvYQlDLaB1BERKQRsvpaePOGPlzZuzl2h8Gkz9fz3uI99d0saSS0CERERMRD+VrMvHB1T8ID/XhvyR6emrWZ1fuO0CzMSqCfhQA/HwL9LMSE+tMzPpzYUKtWEku1KACKiIh4MLPZxGOXdqZJoC8vzt3Oj3+knrRsdIg/veLD6RkfzsjO0XSK1ZQlqZrmAFaT5gCKiEh9W7T9EGuSj3DUZqew/OtoSSl7MwvZlp6H3XHsn3SL2cR7t/RjeIem9dhiqS1aBFJHFABFRMSTFdpK2XQwl/X7s5m7OZ3lew4T7O/Dl3cOUk9gI6RFICIiIkKgnw/9EiL4y9A2/O+2AQxsE0F+cSm3fbCKjLyi+m6eeBgFQBERkUbGz8fMtBv60CYqiJTso/zlw1Uctdnru1niQRQARUREGqHwQD/eH9+PJoG+bDiQw8SZa3E4Ks76MgwDzQTzTpoDWE2aAygiIg3Rqr2HuW76cmx2Bxd1iyUswJcDR46Skl32FR3izxvXnUPP+PD6bqqcAS0CqSMKgCIi0lB9ty6Fe2esO+nrYQG+fHb7QLrE6d+3hqKmuUT7AIqIiDRyl/dqTqndYMWewzQLt9I8PIAWTQJpGuLPP79cz5rkbG54dzkz7xhI+5iQ+m6u1AH1AFaTegBFRKQxyi0q4YZ3lrPhQA5NQ/yZecdA2jQNru9myWloGxgRERE5a6FWXz66tT+dYkM4lFfM9e8sZ//hwvpultQy9QBWk3oARUSkMcvKL+bat5exMyOfyCA/usSF0jTYn8hgP6KC/UmICiKxcwwWs84a9gRaBFJHFABFRKSxy8gt4tq3l7Ens6DK1/slNOGFq3vSKjKojlsmJ1IArCMKgCIi4g2O2uws25NFVr6NzPxisvKLOZRXzNzN6RTY7AT4Wnjkks7cMKAlJpN6A+uLAmAdUQAUERFvtv9wIQ98uZ5luw8DMLR9FM9e1YO48IB6bpl30iIQERERqXXxEYF8+peBTP5TF/x9zPy+I5NRLy/ivcV7KLE76rt5coYUAEVERKRazGYT44e0Zva9Q+ndMpy84lKemrWZ0a8sYv62jPpunpwBDQFXk4aARUREjrE7DD5ftZ8Xft5GVoENgPM6NuX/LulCu2jtI1jbNAewjigAioiIVJZbVMLrv+3k/SV7KLEbWMwmhndoypjezbmgSwxWX0u16pi7KZ3VyUe4YUArHUlXDY12DuAbb7xBQkICVquVAQMGsGLFilOW/+KLL+jUqRNWq5Xu3bsze/bsCq/fcsstmEymCl+jR4+uzbcgIiLS6IVafXnk4s78ct9wEjvHYHcY/LY1g3s+W0u/Z37loa82sGRnJrsO5ZOeW0R+cSkOh0F+cSnfrk3hLx+uou/Tv3L/F+v5dHkyV725lB83pJ70eb9sSmPs20mnLCOn55E9gDNnzuSmm25i2rRpDBgwgFdeeYUvvviCbdu2ER0dXan80qVLGTZsGFOmTOHSSy/l008/5dlnn2XNmjV069YNKAuA6enpvP/++677/P39adKkSbXapB5AERGR09t1KJ9v1qTwzdoUUrKPVlnGZAIT4DgugbRtGkR4oB+r9x0B4O8j2zNxZHvM5RtPHy6wMfn7Tfyw/iAAPmYTH/9lAAPbRFb5jBV7DvPgVxu4sEsMD13UqdFtWdMoh4AHDBhAv379eP311wFwOBzEx8dzzz338NBDD1Uqf+2111JQUMCsWbNc1wYOHEivXr2YNm0aUBYAs7Oz+fbbb8+qTQqAIiIi1edwGKzYe5hv1qSweGcmuUUlFBSXVgh9raOCuLRHMy7tEUeHmGAcBkz9aQvTf98DwKiuMbx0TS8WbDvE499tJKvAhtkEHWJC2JqWR3igL9/dPaTSxtSr9x3mxndXUGizA3BfYgfuTWxfZ++9LtQ0l/jUQptqxGazsXr1ah5++GHXNbPZTGJiIklJSVXek5SUxKRJkypcGzVqVKWwt2DBAqKjo2nSpAkjRozgmWeeITKy6v9yKC4upri42PVzbm7uWb4jERER72M2mxjYJrJCD51hGBSVOMgvLsXuMIgJ9a/QM2cxwaOXdKFjbCiPfP0HP29KZ+hz8zlcvsikY0wIz1/dgw4xIVz7VhLrD+Rw6wcr+fquIYQF+AKwbn82N7+3kkKbnTZRQezOLODlX7fTLMzKNf3i6/aX4ME8bg5gZmYmdrudmJiYCtdjYmJIS0ur8p60tLTTlh89ejQfffQR8+bN49lnn2XhwoVcdNFF2O32KuucMmUKYWFhrq/4eP2hERERqQmTyUSAn4WmIf7EhllPOiz75z4t+OyOgUQF+3O4wIbFbOKeEe34/p4h9GgRjtXXwvSb+tIszMquQwVM+HQNpXYHG1NyuPHd5eQXlzKgdQQ//n0od5/fFoCHv/mD+Vu1VY2Tx/UA1paxY8e6vu/evTs9evSgbdu2LFiwgJEjR1Yq//DDD1foVczNzVUIFBERqSN9WjXhh3uGMGPFfi7sGkPXuLAKr0eHWpl+U1+unpbE7zsyuXfGOpbsyiSvqJS+rZrw3i39CPCz8I8LO5KaU8TXa1K465M1zLhjID3jw+vnTXkQj+sBjIqKwmKxkJ6eXuF6eno6sbGxVd4TGxt7RuUB2rRpQ1RUFDt37qzydX9/f0JDQyt8iYiISN1pFhbAfRd0qBT+nLo1D+OVsb0A+PGPVLILS+jdMpz3x/cjyL+sj8tkMvHsVT0Y2j6KoyV2bv1gJfuyCurqLXgsjwuAfn5+9OnTh3nz5rmuORwO5s2bx6BBg6q8Z9CgQRXKA8ydO/ek5QEOHDhAVlYWzZo1c0/DRUREpM6N6hrLQxd1AqBHizA+GN+fEKtvhTK+FjNv3tCHrnGhZBXYuP6d5ew/XFgfzfUYHrkKeObMmdx888289dZb9O/fn1deeYXPP/+crVu3EhMTw0033UTz5s2ZMmUKULYNzPDhw5k6dSqXXHIJM2bM4N///rdrG5j8/HyefPJJrrrqKmJjY9m1axf//Oc/ycvL448//sDf3/+0bdIqYBEREc+1J7OAFk0C8LWcvG8rI6+Ia99axp7MApqHBzDjjoHERwTWYSvdp1FuBH3ttdfywgsv8Pjjj9OrVy/WrVvHnDlzXAs9kpOTSU09tgHk4MGD+fTTT3n77bfp2bMnX375Jd9++61rD0CLxcKGDRu47LLL6NChA7fddht9+vTh999/r1b4ExEREc/WOirolOEPIDrEyme3D6RNVBAp2Ue59q0kkrO8syfQI3sAPZF6AEVERBqHjNwixk5fxu5DBTQLKwuFCVFBp7/RgzTKHkARERGR2hIdamXGHQNp2zSI1Jwixr5dNizsTRQARURExOtEh1iZcccg2kcHk5ZbxNXTktiYknNGdezNLGDs20mMf38FqTlVH3vnqRQARURExCs1DfHnszsG0rlZKJn5xVz7VhKLth+q1r0/bkjl0v8sZtnuw8zfdoiLX/2d+dsazkbTCoAiIiLitaKC/Zn514EMbhtJga1sn8CvVh84afniUjuTv9vI3Z+uIb+4lH4JTegaF8qRwhLGv7+SZ+dspdTuqMN3cHYUAEVERMSrhVp9+WB8fy7rGUepw+D+L9bz3wU7OX6drK3Uwc6MPK6elsSHSfsAuPO8tnx2+0C+unMwNw1qBcCbC3Yx9u1lHMz27CFhrQKuJq0CFhERadwcDoOpc7by9qLdALSKDOSozU5uUQlFJcd69cIDfXnpmp6M6BRT4f7Zf6Ty4JcbyCsupUmgL/+7bQDdmld9iklN1TSXeM1ZwCIiIiKnYjabeOTizsSGWnn6x83sq2KPwEFtInnhmp40Dw+o9NrF3ZvRNS6UCZ+uxVbqoG3T4Lpo9llRD2A1qQdQRETEe+zJLCAtp4gQqw9hAb6EWn0JtvpgMZtOe29xqZ3DBTaahVUOie6iHkARERERN2sdFUTrs9wc2t/HUqvhzx20CERERETEyygAioiIiHgZBUARERERL6MAKCIiIuJlFABFREREvIwCoIiIiIiXUQAUERER8TIKgCIiIiJeRgFQRERExMsoAIqIiIh4GQVAERERES+jACgiIiLiZRQARURERLyMAqCIiIiIl/Gp7wY0FIZhAJCbm1vPLRERERFv58wjznxyphQAqykvLw+A+Pj4em6JiIiISJm8vDzCwsLO+D6TcbbR0cs4HA4OHjxISEgIJpOpVp6Rm5tLfHw8+/fvJzQ0tFaeIWdGn4nn0WfiefSZeB59Jp7H3Z+JYRjk5eURFxeH2XzmM/rUA1hNZrOZFi1a1MmzQkND9X9YD6PPxPPoM/E8+kw8jz4Tz+POz+Rsev6ctAhERERExMsoAIqIiIh4GQVAD+Lv78/kyZPx9/ev76ZIOX0mnkefiefRZ+J59Jl4Hk/7TLQIRERERMTLqAdQRERExMsoAIqIiIh4GQVAERERES+jAOhB3njjDRISErBarQwYMIAVK1bUd5O8wpQpU+jXrx8hISFER0dzxRVXsG3btgplioqKuPvuu4mMjCQ4OJirrrqK9PT0emqx95k6dSomk4mJEye6rukzqXspKSnccMMNREZGEhAQQPfu3Vm1apXrdcMwePzxx2nWrBkBAQEkJiayY8eOemxx42a323nsscdo3bo1AQEBtG3blqeffrrC0WD6TGrXokWL+NOf/kRcXBwmk4lvv/22wuvV+f0fPnyY66+/ntDQUMLDw7ntttvIz8+v9bYrAHqImTNnMmnSJCZPnsyaNWvo2bMno0aNIiMjo76b1ugtXLiQu+++m2XLljF37lxKSkq48MILKSgocJW57777+OGHH/jiiy9YuHAhBw8e5Morr6zHVnuPlStX8tZbb9GjR48K1/WZ1K0jR44wZMgQfH19+emnn9i8eTMvvvgiTZo0cZV57rnneO2115g2bRrLly8nKCiIUaNGUVRUVI8tb7yeffZZ3nzzTV5//XW2bNnCs88+y3PPPcd//vMfVxl9JrWroKCAnj178sYbb1T5enV+/9dffz2bNm1i7ty5zJo1i0WLFnHHHXfUfuMN8Qj9+/c37r77btfPdrvdiIuLM6ZMmVKPrfJOGRkZBmAsXLjQMAzDyM7ONnx9fY0vvvjCVWbLli0GYCQlJdVXM71CXl6e0b59e2Pu3LnG8OHDjXvvvdcwDH0m9eHBBx80zj333JO+7nA4jNjYWOP55593XcvOzjb8/f2Nzz77rC6a6HUuueQS49Zbb61w7corrzSuv/56wzD0mdQ1wPjmm29cP1fn979582YDMFauXOkq89NPPxkmk8lISUmp1faqB9AD2Gw2Vq9eTWJiouua2WwmMTGRpKSkemyZd8rJyQEgIiICgNWrV1NSUlLh8+nUqRMtW7bU51PL7r77bi655JIKv3vQZ1Ifvv/+e/r27cvVV19NdHQ0vXv3Zvr06a7X9+zZQ1paWoXPJCwsjAEDBugzqSWDBw9m3rx5bN++HYD169ezePFiLrroIkCfSX2rzu8/KSmJ8PBw+vbt6yqTmJiI2Wxm+fLltdo+nQXsATIzM7Hb7cTExFS4HhMTw9atW+upVd7J4XAwceJEhgwZQrdu3QBIS0vDz8+P8PDwCmVjYmJIS0urh1Z6hxkzZrBmzRpWrlxZ6TV9JnVv9+7dvPnmm0yaNIlHHnmElStX8ve//x0/Pz9uvvlm1++9qr/H9JnUjoceeojc3Fw6deqExWLBbrfzr3/9i+uvvx5An0k9q87vPy0tjejo6Aqv+/j4EBERUeufkQKgyHHuvvtuNm7cyOLFi+u7KV5t//793HvvvcydOxer1VrfzRHK/uOob9++/Pvf/wagd+/ebNy4kWnTpnHzzTfXc+u80+eff84nn3zCp59+SteuXVm3bh0TJ04kLi5On4mcloaAPUBUVBQWi6XSCsb09HRiY2PrqVXeZ8KECcyaNYv58+fTokUL1/XY2FhsNhvZ2dkVyuvzqT2rV68mIyODc845Bx8fH3x8fFi4cCGvvfYaPj4+xMTE6DOpY82aNaNLly4VrnXu3Jnk5GQA1+9df4/VnQceeICHHnqIsWPH0r17d2688Ubuu+8+pkyZAugzqW/V+f3HxsZWWuxZWlrK4cOHa/0zUgD0AH5+fvTp04d58+a5rjkcDubNm8egQYPqsWXewTAMJkyYwDfffMNvv/1G69atK7zep08ffH19K3w+27ZtIzk5WZ9PLRk5ciR//PEH69atc3317duX66+/3vW9PpO6NWTIkErbI23fvp1WrVoB0Lp1a2JjYyt8Jrm5uSxfvlyfSS0pLCzEbK74z7jFYsHhcAD6TOpbdX7/gwYNIjs7m9WrV7vK/PbbbzgcDgYMGFC7DazVJSZSbTNmzDD8/f2NDz74wNi8ebNxxx13GOHh4UZaWlp9N63Ru/POO42wsDBjwYIFRmpqquursLDQVeZvf/ub0bJlS+O3334zVq1aZQwaNMgYNGhQPbba+xy/Ctgw9JnUtRUrVhg+Pj7Gv/71L2PHjh3GJ598YgQGBhoff/yxq8zUqVON8PBw47vvvjM2bNhgXH755Ubr1q2No0eP1mPLG6+bb77ZaN68uTFr1ixjz549xtdff21ERUUZ//znP11l9JnUrry8PGPt2rXG2rVrDcB46aWXjLVr1xr79u0zDKN6v//Ro0cbvXv3NpYvX24sXrzYaN++vTFu3Lhab7sCoAf5z3/+Y7Rs2dLw8/Mz+vfvbyxbtqy+m+QVgCq/3n//fVeZo0ePGnfddZfRpEkTIzAw0BgzZoyRmppaf432QicGQH0mde+HH34wunXrZvj7+xudOnUy3n777QqvOxwO47HHHjNiYmIMf39/Y+TIkca2bdvqqbWNX25urnHvvfcaLVu2NKxWq9GmTRvj0UcfNYqLi11l9JnUrvnz51f578fNN99sGEb1fv9ZWVnGuHHjjODgYCM0NNQYP368kZeXV+ttNxnGcVuGi4iIiEijpzmAIiIiIl5GAVBERETEyygAioiIiHgZBUARERERL6MAKCIiIuJlFABFREREvIwCoIiIiIiXUQAUERER8TIKgCIiIiJeRgFQRKQW3HLLLVxxxRX13QwRkSopAIqIiIh4GQVAEZEa+PLLL+nevTsBAQFERkaSmJjIAw88wIcffsh3332HyWTCZDKxYMECAPbv388111xDeHg4ERERXH755ezdu9dVn7Pn8Mknn6Rp06aEhobyt7/9DZvNVj9vUEQaJZ/6boCISEOVmprKuHHjeO655xgzZgx5eXn8/vvv3HTTTSQnJ5Obm8v7778PQEREBCUlJYwaNYpBgwbx+++/4+PjwzPPPMPo0aPZsGEDfn5+AMybNw+r1cqCBQvYu3cv48ePJzIykn/961/1+XZFpBFRABQROUupqamUlpZy5ZVX0qpVKwC6d+8OQEBAAMXFxcTGxrrKf/zxxzgcDt555x1MJhMA77//PuHh4SxYsIALL7wQAD8/P9577z0CAwPp2rUrTz31FA888ABPP/00ZrMGbkSk5vQ3iYjIWerZsycjR46ke/fuXH311UyfPp0jR46ctPz69evZuXMnISEhBAcHExwcTEREBEVFRezatatCvYGBga6fBw0aRH5+Pvv376/V9yMi3kM9gCIiZ8lisTB37lyWLl3KL7/8wn/+8x8effRRli9fXmX5/Px8+vTpwyeffFLptaZNm9Z2c0VEXBQARURqwGQyMWTIEIYMGcLjjz9Oq1at+Oabb/Dz88Nut1coe8455zBz5kyio6MJDQ09aZ3r16/n6NGjBAQEALBs2TKCg4OJj4+v1fciIt5DQ8AiImdp+fLl/Pvf/2bVqlUkJyfz9ddfc+jQITp37kxCQgIbNmxg27ZtZGZmUlJSwvXXX09UVBSXX345v//+O3v27GHBggX8/e9/58CBA656bTYbt912G5s3b2b27NlMnjyZCRMmaP6fiLiNegBFRM5SaGgoixYt4pVXXiE3N5dWrVrx4osvctFFF9G3b18WLFhA3759yc/PZ/78+Zx33nksWrSIBx98kCuvvJK8vDyaN2/OyJEjK/QIjhw5kvbt2zNs2DCKi4sZN24cTzzxRP29URFpdEyGYRj13QgRESlzyy23kJ2dzbffflvfTRGRRkzjCSIiIiJeRgFQRERExMtoCFhERETEy6gHUERERMTLKACKiIiIeBkFQBEREREvowAoIiIi4mUUAEVERES8jAKgiIiIiJdRABQRERHxMgqAIiIiIl5GAVBERETEyygAioiIiHgZBUARERERL6MAKCIiIuJlFABFREREvIwCoIiIiIiX+X8g/JVxPcL9PgAAAABJRU5ErkJggg==)\n",
       "\n"
      ],
      "text/plain": [
       "<IPython.core.display.Markdown object>"
      ]
     },
     "metadata": {},
     "output_type": "display_data"
    },
    {
     "name": "stderr",
     "output_type": "stream",
     "text": [
      "c:\\Users\\chris\\miniconda3\\envs\\gbn\\Lib\\site-packages\\dvc_render\\vega.py:169: UserWarning: `generate_markdown` can only be used with `LinearTemplate`\n",
      "  warn(\"`generate_markdown` can only be used with `LinearTemplate`\")  # noqa: B028\n"
     ]
    }
   ],
   "source": [
    "from dvclive import Live\n",
    "op = operator.and_\n",
    "epochs = 100\n",
    "with Live(report='notebook', save_dvc_exp=False) as live:\n",
    "    for epoch in range(epochs):\n",
    "        avg_loss = train(op, 100)\n",
    "        live.log_metric('train/avg_loss', avg_loss)\n",
    "        metrics = validate(op)\n",
    "        live.log_sklearn_plot('confusion_matrix', metrics['labels'], metrics['preds'], 'valid/metrics')\n",
    "        live.next_step()"
   ]
  }
 ],
 "metadata": {
  "kernelspec": {
   "display_name": "ML",
   "language": "python",
   "name": "python3"
  },
  "language_info": {
   "codemirror_mode": {
    "name": "ipython",
    "version": 3
   },
   "file_extension": ".py",
   "mimetype": "text/x-python",
   "name": "python",
   "nbconvert_exporter": "python",
   "pygments_lexer": "ipython3",
   "version": "3.11.7"
  }
 },
 "nbformat": 4,
 "nbformat_minor": 2
}
