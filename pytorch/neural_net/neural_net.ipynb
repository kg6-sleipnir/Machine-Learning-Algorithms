{
 "cells": [
  {
   "cell_type": "markdown",
   "metadata": {},
   "source": [
    "# Neural Net Using Pytorch\n",
    "This model uses Pytorch to create a multi-layered neural network with a sigmoid activation function."
   ]
  },
  {
   "cell_type": "markdown",
   "metadata": {},
   "source": [
    "## Neural Net Definition\n",
    "This is a simple neural network architecture with two inputs, a single hidden\n",
    "layer with four nodes, and two outputs. Its goal is to learn the output of a\n",
    "boolean operator based on the two inputs. Additionally, it utilizes SGD as an\n",
    "optimizer for the learning process."
   ]
  },
  {
   "cell_type": "code",
   "execution_count": 7,
   "metadata": {},
   "outputs": [],
   "source": [
    "from torch import nn, optim, Tensor, float32\n",
    "\n",
    "#\n",
    "# Neural network for learning boolean operations\n",
    "#\n",
    "class NeuralNet(nn.Module):\n",
    "    def __init__(self) -> None:\n",
    "        \"\"\"Init NeuralNet with 2 inputs, 1 hidden layer with 4 nodes, and 2 outputs\"\"\"\n",
    "        super().__init__()\n",
    "        self.layers = nn.Sequential(\n",
    "            nn.Linear(2, 4, dtype=float32),\n",
    "            nn.Sigmoid(),\n",
    "            nn.Linear(4, 2, dtype=float32)\n",
    "        )\n",
    "\n",
    "    def forward(self, x) -> Tensor:\n",
    "        \"\"\"Propagate values through layer in network\"\"\"\n",
    "        logits = self.layers(x)\n",
    "        probs = nn.Softmax(-1)(logits)\n",
    "        return probs"
   ]
  },
  {
   "cell_type": "code",
   "execution_count": 8,
   "metadata": {},
   "outputs": [
    {
     "name": "stdout",
     "output_type": "stream",
     "text": [
      "NeuralNet(\n",
      "  (layers): Sequential(\n",
      "    (0): Linear(in_features=2, out_features=4, bias=True)\n",
      "    (1): Sigmoid()\n",
      "    (2): Linear(in_features=4, out_features=2, bias=True)\n",
      "  )\n",
      ")\n"
     ]
    }
   ],
   "source": [
    "_model = NeuralNet()\n",
    "print(_model)"
   ]
  },
  {
   "cell_type": "markdown",
   "metadata": {},
   "source": [
    "### Util Function for Boolean Operations Dataset\n",
    "The `get_pair()` function takes an operator from the `operator` library as\n",
    "input, and produces two tensors containing the inputs for the NN and the correct\n",
    "outputs respectively."
   ]
  },
  {
   "cell_type": "code",
   "execution_count": 9,
   "metadata": {},
   "outputs": [],
   "source": [
    "import numpy as np\n",
    "import operator\n",
    "\n",
    "def get_pair(operator) -> tuple[Tensor, Tensor]:\n",
    "    \"\"\"Generate a set of inputs and correct output for model\"\"\"\n",
    "    values = np.random.choice([1, 0], 2)            # Two random inputs\n",
    "    answer = [int(operator(values[0], values[1]))]  # Get correct output\n",
    "    answer += [int(not answer[0])]\n",
    "    return Tensor(values).type(float32), Tensor(answer).type(float32)"
   ]
  },
  {
   "cell_type": "markdown",
   "metadata": {},
   "source": [
    "### Util Functions for Training/Validating"
   ]
  },
  {
   "cell_type": "markdown",
   "metadata": {},
   "source": [
    "#### Training\n",
    "There are several different ways to train a model. This method uses batching to\n",
    "combine multiple inputs in a way that allows them to be computed separately\n",
    "within the model. While batching the data decreases the processing speed over\n",
    "one iteration, it allows the model to increase the amount of data processed over\n",
    "this step. By adjusting the batch size according to the model/hardware, the\n",
    "total amount of data processed over the same period of time can increase.\n",
    "\n",
    "During the training step, increasing the batch size for the same amount of data\n",
    "can be detrimental to model performance without any additional changes. To\n",
    "mitigate this, the learning rate can be increased to compensate for the fact\n",
    "that less steps are being performed over the entire dataset. Additionally,\n",
    "another method increases the batch size instead of iteratively decreasing the\n",
    "learning rate. This implementation uses the former for simplicity's sake.\n",
    "\n",
    "Here, after the model has run over each batch, the average loss over the batches\n",
    "is returned as an indicator of how well the model is learning. Subsequent\n",
    "training steps can then be run over multiple epochs to get an idea of how well\n",
    "the model is learning over time. Typically, one epoch involves one training step\n",
    "over the entire dataset. However, since there  are only four possible states for\n",
    "the task this model is learning, the amount of batches and epochs are chosen at\n",
    "random."
   ]
  },
  {
   "cell_type": "code",
   "execution_count": 10,
   "metadata": {},
   "outputs": [],
   "source": [
    "import torch\n",
    "\n",
    "loss_fn = nn.MSELoss()\n",
    "optimizer = optim.SGD(_model.parameters(), lr=0.018)\n",
    "\n",
    "def train(operator, batches, batch_size=5, model=_model) -> float:\n",
    "    loss_hist = []\n",
    "    for batch in range(batches):\n",
    "        pairs, labels = [], []\n",
    "        for _ in range(batch_size):\n",
    "            pair, label = get_pair(operator)\n",
    "            pairs.append(pair)\n",
    "            labels.append(label)\n",
    "\n",
    "        data = torch.stack(pairs)\n",
    "        true = torch.stack(labels)\n",
    "\n",
    "        pred: Tensor = model(data)\n",
    "        loss: Tensor = loss_fn(pred, true)\n",
    "        loss_hist.append(loss.detach().numpy())\n",
    "\n",
    "        loss.backward()\n",
    "        optimizer.step()\n",
    "        optimizer.zero_grad()\n",
    "    return np.array(loss_hist).mean()\n"
   ]
  },
  {
   "cell_type": "markdown",
   "metadata": {},
   "source": [
    "#### Validation\n",
    "Since there are four possible inputs and outputs, this validation step will\n",
    "generate all four and use the model to predict over them. More complex\n",
    "classification models use metrics such as Receiver Operating Characteristics\n",
    "(ROCs) to calculate different rates of true/false positives and negatives.\n",
    "\n",
    "Here, the inputs, predictions, and true outputs are returned to allow the caller\n",
    "to perform metric calculation."
   ]
  },
  {
   "cell_type": "code",
   "execution_count": 11,
   "metadata": {},
   "outputs": [],
   "source": [
    "def validate(operator, model=_model) -> dict:\n",
    "    \"\"\"Validate the test neural network\"\"\"\n",
    "    # Generate validation set\n",
    "    values: list[list[int]] = []\n",
    "    for val_1 in range(2):\n",
    "        for val_2 in range(2):\n",
    "            values.append([val_1, val_2])\n",
    "\n",
    "    predictions = []\n",
    "    true_labels = []\n",
    "\n",
    "    # Run network on validation set\n",
    "    for it, inputs in enumerate(values):\n",
    "        with torch.no_grad():\n",
    "            preds = model(Tensor(inputs)).tolist()\n",
    "        label = [int(operator(inputs[0], inputs[1]))]\n",
    "        label += [int(not label[0])]\n",
    "\n",
    "        predictions.append(round(preds[0]))\n",
    "        predictions.append(round(preds[1]))\n",
    "        true_labels.append(label[0])\n",
    "        true_labels.append(label[1])\n",
    "\n",
    "    return {\n",
    "        \"inputs\": inputs,\n",
    "        \"preds\": predictions,\n",
    "        \"labels\": true_labels\n",
    "    }"
   ]
  },
  {
   "cell_type": "markdown",
   "metadata": {},
   "source": [
    "### Train and Evaluate Model\n",
    "Using DVC (Data Version Control), live plotting of the loss during training can\n",
    "be performed.  Additionally, a confusion matrix is generated for showing how\n",
    "often the model produces incorrect outputs and can be viewed by either using DVC\n",
    "in the command line or in the VS Code extension."
   ]
  },
  {
   "cell_type": "code",
   "execution_count": 12,
   "metadata": {},
   "outputs": [
    {
     "data": {
      "text/markdown": [
       "# DVC Report\n",
       "\n",
       "metrics.json\n",
       "\n",
       "|   train.avg_loss |   step |\n",
       "|------------------|--------|\n",
       "|        0.0376581 |     99 |\n",
       "\n",
       "![static/train/avg_loss](data:image/png;base64,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)\n",
       "\n"
      ],
      "text/plain": [
       "<IPython.core.display.Markdown object>"
      ]
     },
     "metadata": {},
     "output_type": "display_data"
    }
   ],
   "source": [
    "from dvclive import Live\n",
    "op = operator.and_\n",
    "epochs = 100\n",
    "with Live(report='notebook', save_dvc_exp=False) as live:\n",
    "    for epoch in range(epochs):\n",
    "        avg_loss = train(op, 100)\n",
    "        live.log_metric('train/avg_loss', avg_loss)\n",
    "        metrics = validate(op)\n",
    "        live.log_sklearn_plot('confusion_matrix', metrics['labels'], metrics['preds'], 'valid/metrics')\n",
    "        live.next_step()"
   ]
  }
 ],
 "metadata": {
  "kernelspec": {
   "display_name": "ML",
   "language": "python",
   "name": "python3"
  },
  "language_info": {
   "codemirror_mode": {
    "name": "ipython",
    "version": 3
   },
   "file_extension": ".py",
   "mimetype": "text/x-python",
   "name": "python",
   "nbconvert_exporter": "python",
   "pygments_lexer": "ipython3",
   "version": "3.11.7"
  }
 },
 "nbformat": 4,
 "nbformat_minor": 2
}
